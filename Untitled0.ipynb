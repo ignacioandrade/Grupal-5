{
  "nbformat": 4,
  "nbformat_minor": 0,
  "metadata": {
    "colab": {
      "provenance": [],
      "authorship_tag": "ABX9TyPcZE/sAU8whLq1PdIoBHm9",
      "include_colab_link": true
    },
    "kernelspec": {
      "name": "python3",
      "display_name": "Python 3"
    },
    "language_info": {
      "name": "python"
    }
  },
  "cells": [
    {
      "cell_type": "markdown",
      "metadata": {
        "id": "view-in-github",
        "colab_type": "text"
      },
      "source": [
        "<a href=\"https://colab.research.google.com/github/ignacioandrade/Grupal-5/blob/main/Untitled0.ipynb\" target=\"_parent\"><img src=\"https://colab.research.google.com/assets/colab-badge.svg\" alt=\"Open In Colab\"/></a>"
      ]
    },
    {
      "cell_type": "code",
      "execution_count": 7,
      "metadata": {
        "colab": {
          "base_uri": "https://localhost:8080/"
        },
        "id": "oJ1wTP1PTEkF",
        "outputId": "d8ae209e-a78b-4508-b937-2155f6a14c3b"
      },
      "outputs": [
        {
          "output_type": "stream",
          "name": "stdout",
          "text": [
            "La edad 30 es mayor.\n"
          ]
        }
      ],
      "source": [
        "edad1 = 25\n",
        "edad = 30\n",
        "\n",
        "if edad1 > edad:\n",
        "  print(f\"La edad {edad1} es mayor.\")\n",
        "elif edad1 < edad:\n",
        "    print(f\"La edad {edad} es mayor.\")\n",
        "else:\n",
        "      print (\"Ambas edades son iguales.\")\n",
        ""
      ]
    },
    {
      "cell_type": "code",
      "source": [
        "ingresada = \"secreto\"\n",
        "real = \"secreto432\"\n",
        "\n",
        "if ingresada == real:\n",
        "    print(\"La contraseña es correcta\")\n",
        "else:\n",
        "    print(\"La contraseña es incorrecta\")"
      ],
      "metadata": {
        "colab": {
          "base_uri": "https://localhost:8080/"
        },
        "id": "o-WDU02XUjii",
        "outputId": "52ed0558-d091-4798-9f9d-c88429357090"
      },
      "execution_count": 4,
      "outputs": [
        {
          "output_type": "stream",
          "name": "stdout",
          "text": [
            "La contraseña es incorrecta\n"
          ]
        }
      ]
    },
    {
      "cell_type": "code",
      "source": [
        "ID1 = 1024\n",
        "ID2 = 2048\n",
        "\n",
        "if (ID1 != ID2):\n",
        "    print(\"Los ID son diferentes\")\n",
        "else:\n",
        "    print(\"Los ID son iguales\")"
      ],
      "metadata": {
        "colab": {
          "base_uri": "https://localhost:8080/"
        },
        "id": "Vddkr1RHVYQY",
        "outputId": "25c8a6fd-48fa-4fba-ef34-f702ea7aff24"
      },
      "execution_count": 8,
      "outputs": [
        {
          "output_type": "stream",
          "name": "stdout",
          "text": [
            "Los ID son diferentes\n"
          ]
        }
      ]
    },
    {
      "cell_type": "code",
      "source": [
        "#un estudiante necesita por lo menos 60 puntos para aprobar\n",
        "#aprobo? nota = 59\n",
        "\n",
        "nota = 59\n",
        "if (nota >= 60):\n",
        "    print(\"Aprobo\")\n",
        "else:\n",
        "    print(\"Reprobo\")"
      ],
      "metadata": {
        "colab": {
          "base_uri": "https://localhost:8080/"
        },
        "id": "xvGgdwKaViNP",
        "outputId": "5c56b5fc-3fe5-480d-d2aa-6ec1bd9796b5"
      },
      "execution_count": 9,
      "outputs": [
        {
          "output_type": "stream",
          "name": "stdout",
          "text": [
            "Reprobo\n"
          ]
        }
      ]
    },
    {
      "cell_type": "code",
      "source": [
        "#Compara la edad. Alicia es 28 años mas grande que Bob. Bob tiene 35. ¿Cuál es la diferencia de edad?\n",
        "#¿Las edades no son iguales?\n",
        "\n",
        "edadBob = 35\n",
        "edadAlicia = edadBob + 28\n",
        "diferencia = edadAlicia - edadBob\n",
        "\n",
        "print(f\"La diferencia de edad es {diferencia}\")\n",
        "\n",
        "if (edadAlicia != edadBob):\n",
        "    print(\"Las edades son iguales\")\n",
        "else:\n",
        "    print(\"Las edades son diferentes\")"
      ],
      "metadata": {
        "colab": {
          "base_uri": "https://localhost:8080/"
        },
        "id": "hfCPChZ1V5hI",
        "outputId": "29e9d620-cc3b-48cf-8484-2dadf8c5c66b"
      },
      "execution_count": 14,
      "outputs": [
        {
          "output_type": "stream",
          "name": "stdout",
          "text": [
            "La diferencia de edad es 28\n",
            "Las edades son iguales\n"
          ]
        }
      ]
    }
  ]
}